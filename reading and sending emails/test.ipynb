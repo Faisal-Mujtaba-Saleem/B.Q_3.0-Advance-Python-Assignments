{
 "cells": [
  {
   "cell_type": "code",
   "execution_count": 224,
   "id": "2255fbce-b8ad-4d3d-9244-0058b115d630",
   "metadata": {},
   "outputs": [],
   "source": [
    "import pandas as pd"
   ]
  },
  {
   "cell_type": "code",
   "execution_count": 225,
   "id": "c5bd580b-e60b-40af-b32f-397b02e8153a",
   "metadata": {},
   "outputs": [],
   "source": [
    "# quotes = pd.read_csv('quotes.csv', header=None)\n",
    "quotes = pd.read_csv('quotes.csv')"
   ]
  },
  {
   "cell_type": "code",
   "execution_count": 226,
   "id": "4e56ffe6-0689-4f41-bce1-53f8a62ea948",
   "metadata": {},
   "outputs": [
    {
     "data": {
      "text/plain": [
       "pandas.core.frame.DataFrame"
      ]
     },
     "execution_count": 226,
     "metadata": {},
     "output_type": "execute_result"
    }
   ],
   "source": [
    "type(quotes)"
   ]
  },
  {
   "cell_type": "code",
   "execution_count": 227,
   "id": "594ec9ff",
   "metadata": {},
   "outputs": [
    {
     "data": {
      "text/html": [
       "<div>\n",
       "<style scoped>\n",
       "    .dataframe tbody tr th:only-of-type {\n",
       "        vertical-align: middle;\n",
       "    }\n",
       "\n",
       "    .dataframe tbody tr th {\n",
       "        vertical-align: top;\n",
       "    }\n",
       "\n",
       "    .dataframe thead th {\n",
       "        text-align: right;\n",
       "    }\n",
       "</style>\n",
       "<table border=\"1\" class=\"dataframe\">\n",
       "  <thead>\n",
       "    <tr style=\"text-align: right;\">\n",
       "      <th></th>\n",
       "      <th>Quote</th>\n",
       "    </tr>\n",
       "  </thead>\n",
       "  <tbody>\n",
       "    <tr>\n",
       "      <th>0</th>\n",
       "      <td>خواب وہ نہیں ہوتے جو نیند میں آئیں، خواب وہ ہو...</td>\n",
       "    </tr>\n",
       "    <tr>\n",
       "      <th>1</th>\n",
       "      <td>محنت کبھی رائیگاں نہیں جاتی، اگر آج نہ تو کل ر...</td>\n",
       "    </tr>\n",
       "    <tr>\n",
       "      <th>2</th>\n",
       "      <td>دشواریاں ہمیشہ آپ کو ایک طاقتور انسان بناتی ہیں۔</td>\n",
       "    </tr>\n",
       "    <tr>\n",
       "      <th>3</th>\n",
       "      <td>کام کو اپنی زندگی کا مقصد بنائیں، کامیابی خود ...</td>\n",
       "    </tr>\n",
       "    <tr>\n",
       "      <th>4</th>\n",
       "      <td>کامیاب لوگ وہ نہیں ہوتے جو کبھی ناکام نہ ہوں، ...</td>\n",
       "    </tr>\n",
       "    <tr>\n",
       "      <th>5</th>\n",
       "      <td>اگر آپ نے کوئی خواب دیکھا ہے تو اس کے پورا ہون...</td>\n",
       "    </tr>\n",
       "    <tr>\n",
       "      <th>6</th>\n",
       "      <td>کامیابی کی پہلی سیڑھی خود پر یقین ہے۔</td>\n",
       "    </tr>\n",
       "    <tr>\n",
       "      <th>7</th>\n",
       "      <td>جو محنت کرتا ہے، قسمت بھی اسی کا ساتھ دیتی ہے۔</td>\n",
       "    </tr>\n",
       "    <tr>\n",
       "      <th>8</th>\n",
       "      <td>کامیابی کی طرف پہلا قدم مشکل ضرور ہے، مگر نامم...</td>\n",
       "    </tr>\n",
       "    <tr>\n",
       "      <th>9</th>\n",
       "      <td>زندگی میں کبھی ہار نہ مانیں، کیونکہ جو کوشش کر...</td>\n",
       "    </tr>\n",
       "    <tr>\n",
       "      <th>10</th>\n",
       "      <td>محنت کی چابی سے کامیابی کے دروازے کھلتے ہیں۔</td>\n",
       "    </tr>\n",
       "    <tr>\n",
       "      <th>11</th>\n",
       "      <td>آگے بڑھنے کا جذبہ اور مستقل مزاجی آپ کو کامیاب...</td>\n",
       "    </tr>\n",
       "    <tr>\n",
       "      <th>12</th>\n",
       "      <td>خود پر یقین رکھیں، کامیابی آپ کے قدم چومے گی۔</td>\n",
       "    </tr>\n",
       "    <tr>\n",
       "      <th>13</th>\n",
       "      <td>جس کام کو کرنے کی ٹھان لی ہو، اس میں کبھی پیچھ...</td>\n",
       "    </tr>\n",
       "    <tr>\n",
       "      <th>14</th>\n",
       "      <td>مشکل وقت میں ہمت نہ ہاریں، بلکہ اسے اپنی طاقت ...</td>\n",
       "    </tr>\n",
       "    <tr>\n",
       "      <th>15</th>\n",
       "      <td>کامیاب ہونے کے لئے یہ ضروری نہیں کہ آپ کبھی نہ...</td>\n",
       "    </tr>\n",
       "    <tr>\n",
       "      <th>16</th>\n",
       "      <td>اپنے خوابوں کو حقیقت بنانے کے لئے محنت کریں، ک...</td>\n",
       "    </tr>\n",
       "    <tr>\n",
       "      <th>17</th>\n",
       "      <td>کامیابی کا کوئی شارٹ کٹ نہیں ہوتا، محنت ہی اس ...</td>\n",
       "    </tr>\n",
       "    <tr>\n",
       "      <th>18</th>\n",
       "      <td>زندگی میں کچھ بھی حاصل کرنے کے لئے خود پر یقین...</td>\n",
       "    </tr>\n",
       "    <tr>\n",
       "      <th>19</th>\n",
       "      <td>اگر آپ نے کبھی خواب دیکھا ہے تو اسے پورا کرنے ...</td>\n",
       "    </tr>\n",
       "    <tr>\n",
       "      <th>20</th>\n",
       "      <td>کامیابی انہی کو ملتی ہے جو کبھی ہار نہیں مانتے۔</td>\n",
       "    </tr>\n",
       "    <tr>\n",
       "      <th>21</th>\n",
       "      <td>جو محنت سے نہیں گھبراتا، کامیابی اس کے قدموں م...</td>\n",
       "    </tr>\n",
       "    <tr>\n",
       "      <th>22</th>\n",
       "      <td>کامیابی کی سیڑھی محنت اور مستقل مزاجی سے چڑھی ...</td>\n",
       "    </tr>\n",
       "    <tr>\n",
       "      <th>23</th>\n",
       "      <td>جو محنت کرتا ہے، کامیابی اس کی دستک پر ہوتی ہے۔</td>\n",
       "    </tr>\n",
       "    <tr>\n",
       "      <th>24</th>\n",
       "      <td>زندگی میں کبھی ہار نہ مانیں، کیونکہ جو کوشش کر...</td>\n",
       "    </tr>\n",
       "    <tr>\n",
       "      <th>25</th>\n",
       "      <td>کامیابی کا راز محنت اور مستقل مزاجی میں ہے۔</td>\n",
       "    </tr>\n",
       "    <tr>\n",
       "      <th>26</th>\n",
       "      <td>زندگی کے ہر لمحے کو اہمیت دیں اور اپنی منزل کی...</td>\n",
       "    </tr>\n",
       "    <tr>\n",
       "      <th>27</th>\n",
       "      <td>اگر آپ میں کچھ کرنے کا جذبہ ہے تو کامیابی آپ ک...</td>\n",
       "    </tr>\n",
       "    <tr>\n",
       "      <th>28</th>\n",
       "      <td>کامیاب لوگ وہی ہوتے ہیں جو کبھی ہار نہیں مانتے۔</td>\n",
       "    </tr>\n",
       "    <tr>\n",
       "      <th>29</th>\n",
       "      <td>کامیابی انہی کو ملتی ہے جو اس کے لئے مسلسل کوش...</td>\n",
       "    </tr>\n",
       "    <tr>\n",
       "      <th>30</th>\n",
       "      <td>کامیابی کا پہلا قدم خود پر یقین ہے۔</td>\n",
       "    </tr>\n",
       "    <tr>\n",
       "      <th>31</th>\n",
       "      <td>محنت کبھی رائیگاں نہیں جاتی، اگر آج نہ تو کل ر...</td>\n",
       "    </tr>\n",
       "    <tr>\n",
       "      <th>32</th>\n",
       "      <td>کامیاب ہونے کے لئے خود پر اعتماد رکھیں اور محن...</td>\n",
       "    </tr>\n",
       "    <tr>\n",
       "      <th>33</th>\n",
       "      <td>کامیابی کا سفر محنت اور مستقل مزاجی سے طے ہوتا...</td>\n",
       "    </tr>\n",
       "    <tr>\n",
       "      <th>34</th>\n",
       "      <td>اگر آپ نے کبھی خواب دیکھا ہے تو اسے پورا کرنے ...</td>\n",
       "    </tr>\n",
       "    <tr>\n",
       "      <th>35</th>\n",
       "      <td>کامیابی انہی کو ملتی ہے جو کبھی ہار نہیں مانتے۔</td>\n",
       "    </tr>\n",
       "    <tr>\n",
       "      <th>36</th>\n",
       "      <td>جو محنت سے نہیں گھبراتا، کامیابی اس کے قدموں م...</td>\n",
       "    </tr>\n",
       "    <tr>\n",
       "      <th>37</th>\n",
       "      <td>کامیابی کی سیڑھی محنت اور مستقل مزاجی سے چڑھی ...</td>\n",
       "    </tr>\n",
       "    <tr>\n",
       "      <th>38</th>\n",
       "      <td>جو محنت کرتا ہے، کامیابی اس کی دستک پر ہوتی ہے۔</td>\n",
       "    </tr>\n",
       "    <tr>\n",
       "      <th>39</th>\n",
       "      <td>زندگی میں کبھی ہار نہ مانیں، کیونکہ جو کوشش کر...</td>\n",
       "    </tr>\n",
       "    <tr>\n",
       "      <th>40</th>\n",
       "      <td>کامیابی کا راز محنت اور مستقل مزاجی میں ہے۔</td>\n",
       "    </tr>\n",
       "    <tr>\n",
       "      <th>41</th>\n",
       "      <td>زندگی کے ہر لمحے کو اہمیت دیں اور اپنی منزل کی...</td>\n",
       "    </tr>\n",
       "    <tr>\n",
       "      <th>42</th>\n",
       "      <td>اگر آپ میں کچھ کرنے کا جذبہ ہے تو کامیابی آپ ک...</td>\n",
       "    </tr>\n",
       "    <tr>\n",
       "      <th>43</th>\n",
       "      <td>کامیاب لوگ وہی ہوتے ہیں جو کبھی ہار نہیں مانتے۔</td>\n",
       "    </tr>\n",
       "    <tr>\n",
       "      <th>44</th>\n",
       "      <td>کامیابی انہی کو ملتی ہے جو اس کے لئے مسلسل کوش...</td>\n",
       "    </tr>\n",
       "    <tr>\n",
       "      <th>45</th>\n",
       "      <td>کامیابی کا پہلا قدم خود پر یقین ہے۔</td>\n",
       "    </tr>\n",
       "    <tr>\n",
       "      <th>46</th>\n",
       "      <td>محنت کبھی رائیگاں نہیں جاتی، اگر آج نہ تو کل ر...</td>\n",
       "    </tr>\n",
       "    <tr>\n",
       "      <th>47</th>\n",
       "      <td>کامیاب ہونے کے لئے خود پر اعتماد رکھیں اور محن...</td>\n",
       "    </tr>\n",
       "    <tr>\n",
       "      <th>48</th>\n",
       "      <td>کامیابی کا سفر محنت اور مستقل مزاجی سے طے ہوتا...</td>\n",
       "    </tr>\n",
       "  </tbody>\n",
       "</table>\n",
       "</div>"
      ],
      "text/plain": [
       "                                                Quote\n",
       "0   خواب وہ نہیں ہوتے جو نیند میں آئیں، خواب وہ ہو...\n",
       "1   محنت کبھی رائیگاں نہیں جاتی، اگر آج نہ تو کل ر...\n",
       "2    دشواریاں ہمیشہ آپ کو ایک طاقتور انسان بناتی ہیں۔\n",
       "3   کام کو اپنی زندگی کا مقصد بنائیں، کامیابی خود ...\n",
       "4   کامیاب لوگ وہ نہیں ہوتے جو کبھی ناکام نہ ہوں، ...\n",
       "5   اگر آپ نے کوئی خواب دیکھا ہے تو اس کے پورا ہون...\n",
       "6               کامیابی کی پہلی سیڑھی خود پر یقین ہے۔\n",
       "7      جو محنت کرتا ہے، قسمت بھی اسی کا ساتھ دیتی ہے۔\n",
       "8   کامیابی کی طرف پہلا قدم مشکل ضرور ہے، مگر نامم...\n",
       "9   زندگی میں کبھی ہار نہ مانیں، کیونکہ جو کوشش کر...\n",
       "10       محنت کی چابی سے کامیابی کے دروازے کھلتے ہیں۔\n",
       "11  آگے بڑھنے کا جذبہ اور مستقل مزاجی آپ کو کامیاب...\n",
       "12      خود پر یقین رکھیں، کامیابی آپ کے قدم چومے گی۔\n",
       "13  جس کام کو کرنے کی ٹھان لی ہو، اس میں کبھی پیچھ...\n",
       "14  مشکل وقت میں ہمت نہ ہاریں، بلکہ اسے اپنی طاقت ...\n",
       "15  کامیاب ہونے کے لئے یہ ضروری نہیں کہ آپ کبھی نہ...\n",
       "16  اپنے خوابوں کو حقیقت بنانے کے لئے محنت کریں، ک...\n",
       "17  کامیابی کا کوئی شارٹ کٹ نہیں ہوتا، محنت ہی اس ...\n",
       "18  زندگی میں کچھ بھی حاصل کرنے کے لئے خود پر یقین...\n",
       "19  اگر آپ نے کبھی خواب دیکھا ہے تو اسے پورا کرنے ...\n",
       "20    کامیابی انہی کو ملتی ہے جو کبھی ہار نہیں مانتے۔\n",
       "21  جو محنت سے نہیں گھبراتا، کامیابی اس کے قدموں م...\n",
       "22  کامیابی کی سیڑھی محنت اور مستقل مزاجی سے چڑھی ...\n",
       "23    جو محنت کرتا ہے، کامیابی اس کی دستک پر ہوتی ہے۔\n",
       "24  زندگی میں کبھی ہار نہ مانیں، کیونکہ جو کوشش کر...\n",
       "25        کامیابی کا راز محنت اور مستقل مزاجی میں ہے۔\n",
       "26  زندگی کے ہر لمحے کو اہمیت دیں اور اپنی منزل کی...\n",
       "27  اگر آپ میں کچھ کرنے کا جذبہ ہے تو کامیابی آپ ک...\n",
       "28    کامیاب لوگ وہی ہوتے ہیں جو کبھی ہار نہیں مانتے۔\n",
       "29  کامیابی انہی کو ملتی ہے جو اس کے لئے مسلسل کوش...\n",
       "30                کامیابی کا پہلا قدم خود پر یقین ہے۔\n",
       "31  محنت کبھی رائیگاں نہیں جاتی، اگر آج نہ تو کل ر...\n",
       "32  کامیاب ہونے کے لئے خود پر اعتماد رکھیں اور محن...\n",
       "33  کامیابی کا سفر محنت اور مستقل مزاجی سے طے ہوتا...\n",
       "34  اگر آپ نے کبھی خواب دیکھا ہے تو اسے پورا کرنے ...\n",
       "35    کامیابی انہی کو ملتی ہے جو کبھی ہار نہیں مانتے۔\n",
       "36  جو محنت سے نہیں گھبراتا، کامیابی اس کے قدموں م...\n",
       "37  کامیابی کی سیڑھی محنت اور مستقل مزاجی سے چڑھی ...\n",
       "38    جو محنت کرتا ہے، کامیابی اس کی دستک پر ہوتی ہے۔\n",
       "39  زندگی میں کبھی ہار نہ مانیں، کیونکہ جو کوشش کر...\n",
       "40        کامیابی کا راز محنت اور مستقل مزاجی میں ہے۔\n",
       "41  زندگی کے ہر لمحے کو اہمیت دیں اور اپنی منزل کی...\n",
       "42  اگر آپ میں کچھ کرنے کا جذبہ ہے تو کامیابی آپ ک...\n",
       "43    کامیاب لوگ وہی ہوتے ہیں جو کبھی ہار نہیں مانتے۔\n",
       "44  کامیابی انہی کو ملتی ہے جو اس کے لئے مسلسل کوش...\n",
       "45                کامیابی کا پہلا قدم خود پر یقین ہے۔\n",
       "46  محنت کبھی رائیگاں نہیں جاتی، اگر آج نہ تو کل ر...\n",
       "47  کامیاب ہونے کے لئے خود پر اعتماد رکھیں اور محن...\n",
       "48  کامیابی کا سفر محنت اور مستقل مزاجی سے طے ہوتا..."
      ]
     },
     "execution_count": 227,
     "metadata": {},
     "output_type": "execute_result"
    }
   ],
   "source": [
    "quotes"
   ]
  },
  {
   "cell_type": "code",
   "execution_count": 228,
   "id": "dd527dcc",
   "metadata": {},
   "outputs": [
    {
     "data": {
      "text/plain": [
       "0     خواب وہ نہیں ہوتے جو نیند میں آئیں، خواب وہ ہو...\n",
       "1     محنت کبھی رائیگاں نہیں جاتی، اگر آج نہ تو کل ر...\n",
       "2      دشواریاں ہمیشہ آپ کو ایک طاقتور انسان بناتی ہیں۔\n",
       "3     کام کو اپنی زندگی کا مقصد بنائیں، کامیابی خود ...\n",
       "4     کامیاب لوگ وہ نہیں ہوتے جو کبھی ناکام نہ ہوں، ...\n",
       "5     اگر آپ نے کوئی خواب دیکھا ہے تو اس کے پورا ہون...\n",
       "6                 کامیابی کی پہلی سیڑھی خود پر یقین ہے۔\n",
       "7        جو محنت کرتا ہے، قسمت بھی اسی کا ساتھ دیتی ہے۔\n",
       "8     کامیابی کی طرف پہلا قدم مشکل ضرور ہے، مگر نامم...\n",
       "9     زندگی میں کبھی ہار نہ مانیں، کیونکہ جو کوشش کر...\n",
       "10         محنت کی چابی سے کامیابی کے دروازے کھلتے ہیں۔\n",
       "11    آگے بڑھنے کا جذبہ اور مستقل مزاجی آپ کو کامیاب...\n",
       "12        خود پر یقین رکھیں، کامیابی آپ کے قدم چومے گی۔\n",
       "13    جس کام کو کرنے کی ٹھان لی ہو، اس میں کبھی پیچھ...\n",
       "14    مشکل وقت میں ہمت نہ ہاریں، بلکہ اسے اپنی طاقت ...\n",
       "15    کامیاب ہونے کے لئے یہ ضروری نہیں کہ آپ کبھی نہ...\n",
       "16    اپنے خوابوں کو حقیقت بنانے کے لئے محنت کریں، ک...\n",
       "17    کامیابی کا کوئی شارٹ کٹ نہیں ہوتا، محنت ہی اس ...\n",
       "18    زندگی میں کچھ بھی حاصل کرنے کے لئے خود پر یقین...\n",
       "19    اگر آپ نے کبھی خواب دیکھا ہے تو اسے پورا کرنے ...\n",
       "20      کامیابی انہی کو ملتی ہے جو کبھی ہار نہیں مانتے۔\n",
       "21    جو محنت سے نہیں گھبراتا، کامیابی اس کے قدموں م...\n",
       "22    کامیابی کی سیڑھی محنت اور مستقل مزاجی سے چڑھی ...\n",
       "23      جو محنت کرتا ہے، کامیابی اس کی دستک پر ہوتی ہے۔\n",
       "24    زندگی میں کبھی ہار نہ مانیں، کیونکہ جو کوشش کر...\n",
       "25          کامیابی کا راز محنت اور مستقل مزاجی میں ہے۔\n",
       "26    زندگی کے ہر لمحے کو اہمیت دیں اور اپنی منزل کی...\n",
       "27    اگر آپ میں کچھ کرنے کا جذبہ ہے تو کامیابی آپ ک...\n",
       "28      کامیاب لوگ وہی ہوتے ہیں جو کبھی ہار نہیں مانتے۔\n",
       "29    کامیابی انہی کو ملتی ہے جو اس کے لئے مسلسل کوش...\n",
       "30                  کامیابی کا پہلا قدم خود پر یقین ہے۔\n",
       "31    محنت کبھی رائیگاں نہیں جاتی، اگر آج نہ تو کل ر...\n",
       "32    کامیاب ہونے کے لئے خود پر اعتماد رکھیں اور محن...\n",
       "33    کامیابی کا سفر محنت اور مستقل مزاجی سے طے ہوتا...\n",
       "34    اگر آپ نے کبھی خواب دیکھا ہے تو اسے پورا کرنے ...\n",
       "35      کامیابی انہی کو ملتی ہے جو کبھی ہار نہیں مانتے۔\n",
       "36    جو محنت سے نہیں گھبراتا، کامیابی اس کے قدموں م...\n",
       "37    کامیابی کی سیڑھی محنت اور مستقل مزاجی سے چڑھی ...\n",
       "38      جو محنت کرتا ہے، کامیابی اس کی دستک پر ہوتی ہے۔\n",
       "39    زندگی میں کبھی ہار نہ مانیں، کیونکہ جو کوشش کر...\n",
       "40          کامیابی کا راز محنت اور مستقل مزاجی میں ہے۔\n",
       "41    زندگی کے ہر لمحے کو اہمیت دیں اور اپنی منزل کی...\n",
       "42    اگر آپ میں کچھ کرنے کا جذبہ ہے تو کامیابی آپ ک...\n",
       "43      کامیاب لوگ وہی ہوتے ہیں جو کبھی ہار نہیں مانتے۔\n",
       "44    کامیابی انہی کو ملتی ہے جو اس کے لئے مسلسل کوش...\n",
       "45                  کامیابی کا پہلا قدم خود پر یقین ہے۔\n",
       "46    محنت کبھی رائیگاں نہیں جاتی، اگر آج نہ تو کل ر...\n",
       "47    کامیاب ہونے کے لئے خود پر اعتماد رکھیں اور محن...\n",
       "48    کامیابی کا سفر محنت اور مستقل مزاجی سے طے ہوتا...\n",
       "Name: Quote, dtype: object"
      ]
     },
     "execution_count": 228,
     "metadata": {},
     "output_type": "execute_result"
    }
   ],
   "source": [
    "quotes['Quote']"
   ]
  },
  {
   "cell_type": "code",
   "execution_count": 229,
   "id": "5b89bc09",
   "metadata": {},
   "outputs": [
    {
     "data": {
      "text/plain": [
       "str"
      ]
     },
     "execution_count": 229,
     "metadata": {},
     "output_type": "execute_result"
    }
   ],
   "source": [
    "type(quotes['Quote'][0])"
   ]
  },
  {
   "cell_type": "code",
   "execution_count": 230,
   "id": "034fb495",
   "metadata": {},
   "outputs": [
    {
     "data": {
      "text/plain": [
       "'خواب وہ نہیں ہوتے جو نیند میں آئیں، خواب وہ ہوتے ہیں جو نیند ہی نہ آنے دیں۔'"
      ]
     },
     "execution_count": 230,
     "metadata": {},
     "output_type": "execute_result"
    }
   ],
   "source": [
    "quotes['Quote'][0]"
   ]
  },
  {
   "cell_type": "code",
   "execution_count": 231,
   "id": "897594be",
   "metadata": {},
   "outputs": [
    {
     "data": {
      "text/html": [
       "<div>\n",
       "<style scoped>\n",
       "    .dataframe tbody tr th:only-of-type {\n",
       "        vertical-align: middle;\n",
       "    }\n",
       "\n",
       "    .dataframe tbody tr th {\n",
       "        vertical-align: top;\n",
       "    }\n",
       "\n",
       "    .dataframe thead th {\n",
       "        text-align: right;\n",
       "    }\n",
       "</style>\n",
       "<table border=\"1\" class=\"dataframe\">\n",
       "  <thead>\n",
       "    <tr style=\"text-align: right;\">\n",
       "      <th></th>\n",
       "      <th>name</th>\n",
       "      <th>email</th>\n",
       "      <th>recieve_day</th>\n",
       "    </tr>\n",
       "  </thead>\n",
       "  <tbody>\n",
       "    <tr>\n",
       "      <th>0</th>\n",
       "      <td>Faisal-Mujtaba</td>\n",
       "      <td>faisalmujtaba2005@gmail.com</td>\n",
       "      <td>Saturday</td>\n",
       "    </tr>\n",
       "    <tr>\n",
       "      <th>1</th>\n",
       "      <td>Faisal-Mujtaba</td>\n",
       "      <td>faisalsaleem5000@gmail.com</td>\n",
       "      <td>Saturday</td>\n",
       "    </tr>\n",
       "    <tr>\n",
       "      <th>2</th>\n",
       "      <td>Faisal-Mujtaba</td>\n",
       "      <td>faysalsaleem5000@gmail.com</td>\n",
       "      <td>Saturday</td>\n",
       "    </tr>\n",
       "    <tr>\n",
       "      <th>3</th>\n",
       "      <td>Talha-Saleem</td>\n",
       "      <td>talhasaleem508@gmail.com</td>\n",
       "      <td>Monday</td>\n",
       "    </tr>\n",
       "    <tr>\n",
       "      <th>4</th>\n",
       "      <td>Abdul-Rafey</td>\n",
       "      <td>upwork8000@gmail.com</td>\n",
       "      <td>Saturday</td>\n",
       "    </tr>\n",
       "  </tbody>\n",
       "</table>\n",
       "</div>"
      ],
      "text/plain": [
       "             name                        email recieve_day\n",
       "0  Faisal-Mujtaba  faisalmujtaba2005@gmail.com    Saturday\n",
       "1  Faisal-Mujtaba   faisalsaleem5000@gmail.com    Saturday\n",
       "2  Faisal-Mujtaba   faysalsaleem5000@gmail.com    Saturday\n",
       "3    Talha-Saleem     talhasaleem508@gmail.com      Monday\n",
       "4     Abdul-Rafey         upwork8000@gmail.com    Saturday"
      ]
     },
     "execution_count": 231,
     "metadata": {},
     "output_type": "execute_result"
    }
   ],
   "source": [
    "recipients = pd.read_csv('recipients.csv')\n",
    "recipients"
   ]
  },
  {
   "cell_type": "code",
   "execution_count": 232,
   "id": "8493f907",
   "metadata": {},
   "outputs": [
    {
     "data": {
      "text/plain": [
       "0    Faisal-Mujtaba\n",
       "1    Faisal-Mujtaba\n",
       "2    Faisal-Mujtaba\n",
       "3      Talha-Saleem\n",
       "4       Abdul-Rafey\n",
       "Name: name, dtype: object"
      ]
     },
     "execution_count": 232,
     "metadata": {},
     "output_type": "execute_result"
    }
   ],
   "source": [
    "recipients['name']"
   ]
  },
  {
   "cell_type": "code",
   "execution_count": 233,
   "id": "6981b4b5",
   "metadata": {},
   "outputs": [
    {
     "data": {
      "text/plain": [
       "'Faisal-Mujtaba'"
      ]
     },
     "execution_count": 233,
     "metadata": {},
     "output_type": "execute_result"
    }
   ],
   "source": [
    "recipients['name'][0]"
   ]
  },
  {
   "cell_type": "code",
   "execution_count": 234,
   "id": "d7088e95",
   "metadata": {},
   "outputs": [
    {
     "name": "stdout",
     "output_type": "stream",
     "text": [
      "<class 'pandas.core.frame.Pandas'>\n",
      "Pandas(Index=0, name='Faisal-Mujtaba', email='faisalmujtaba2005@gmail.com', recieve_day='Saturday')\n",
      "<class 'int'>\n",
      "0\n",
      "<class 'str'>\n",
      "Faisal-Mujtaba\n",
      "<class 'str'>\n",
      "faisalmujtaba2005@gmail.com\n",
      "<class 'str'>\n",
      "Saturday\n",
      "<class 'pandas.core.frame.Pandas'>\n",
      "Pandas(Index=1, name='Faisal-Mujtaba', email='faisalsaleem5000@gmail.com', recieve_day='Saturday')\n",
      "<class 'int'>\n",
      "1\n",
      "<class 'str'>\n",
      "Faisal-Mujtaba\n",
      "<class 'str'>\n",
      "faisalsaleem5000@gmail.com\n",
      "<class 'str'>\n",
      "Saturday\n",
      "<class 'pandas.core.frame.Pandas'>\n",
      "Pandas(Index=2, name='Faisal-Mujtaba', email='faysalsaleem5000@gmail.com', recieve_day='Saturday')\n",
      "<class 'int'>\n",
      "2\n",
      "<class 'str'>\n",
      "Faisal-Mujtaba\n",
      "<class 'str'>\n",
      "faysalsaleem5000@gmail.com\n",
      "<class 'str'>\n",
      "Saturday\n",
      "<class 'pandas.core.frame.Pandas'>\n",
      "Pandas(Index=3, name='Talha-Saleem', email='talhasaleem508@gmail.com', recieve_day='Monday')\n",
      "<class 'int'>\n",
      "3\n",
      "<class 'str'>\n",
      "Talha-Saleem\n",
      "<class 'str'>\n",
      "talhasaleem508@gmail.com\n",
      "<class 'str'>\n",
      "Monday\n",
      "<class 'pandas.core.frame.Pandas'>\n",
      "Pandas(Index=4, name='Abdul-Rafey', email='upwork8000@gmail.com', recieve_day='Saturday')\n",
      "<class 'int'>\n",
      "4\n",
      "<class 'str'>\n",
      "Abdul-Rafey\n",
      "<class 'str'>\n",
      "upwork8000@gmail.com\n",
      "<class 'str'>\n",
      "Saturday\n"
     ]
    }
   ],
   "source": [
    "for row in recipients.itertuples():\n",
    "    print(type(row))\n",
    "    print(row)\n",
    "    print(type(row[0]))\n",
    "    print(row[0])\n",
    "    print(type(row[1]))\n",
    "    print(row[1])\n",
    "    print(type(row[2]))\n",
    "    print(row[2])\n",
    "    print(type(row[3]))\n",
    "    print(row[3])"
   ]
  },
  {
   "cell_type": "code",
   "execution_count": 235,
   "id": "0389c670",
   "metadata": {},
   "outputs": [
    {
     "name": "stdout",
     "output_type": "stream",
     "text": [
      "<class 'tuple'>\n",
      "(0, name                        Faisal-Mujtaba\n",
      "email          faisalmujtaba2005@gmail.com\n",
      "recieve_day                       Saturday\n",
      "Name: 0, dtype: object)\n",
      "<class 'int'>\n",
      "0\n",
      "<class 'pandas.core.series.Series'>\n",
      "name                        Faisal-Mujtaba\n",
      "email          faisalmujtaba2005@gmail.com\n",
      "recieve_day                       Saturday\n",
      "Name: 0, dtype: object\n",
      "Faisal-Mujtaba\n",
      "<class 'tuple'>\n",
      "(1, name                       Faisal-Mujtaba\n",
      "email          faisalsaleem5000@gmail.com\n",
      "recieve_day                      Saturday\n",
      "Name: 1, dtype: object)\n",
      "<class 'int'>\n",
      "1\n",
      "<class 'pandas.core.series.Series'>\n",
      "name                       Faisal-Mujtaba\n",
      "email          faisalsaleem5000@gmail.com\n",
      "recieve_day                      Saturday\n",
      "Name: 1, dtype: object\n",
      "Faisal-Mujtaba\n",
      "<class 'tuple'>\n",
      "(2, name                       Faisal-Mujtaba\n",
      "email          faysalsaleem5000@gmail.com\n",
      "recieve_day                      Saturday\n",
      "Name: 2, dtype: object)\n",
      "<class 'int'>\n",
      "2\n",
      "<class 'pandas.core.series.Series'>\n",
      "name                       Faisal-Mujtaba\n",
      "email          faysalsaleem5000@gmail.com\n",
      "recieve_day                      Saturday\n",
      "Name: 2, dtype: object\n",
      "Faisal-Mujtaba\n",
      "<class 'tuple'>\n",
      "(3, name                       Talha-Saleem\n",
      "email          talhasaleem508@gmail.com\n",
      "recieve_day                      Monday\n",
      "Name: 3, dtype: object)\n",
      "<class 'int'>\n",
      "3\n",
      "<class 'pandas.core.series.Series'>\n",
      "name                       Talha-Saleem\n",
      "email          talhasaleem508@gmail.com\n",
      "recieve_day                      Monday\n",
      "Name: 3, dtype: object\n",
      "Talha-Saleem\n",
      "<class 'tuple'>\n",
      "(4, name                    Abdul-Rafey\n",
      "email          upwork8000@gmail.com\n",
      "recieve_day                Saturday\n",
      "Name: 4, dtype: object)\n",
      "<class 'int'>\n",
      "4\n",
      "<class 'pandas.core.series.Series'>\n",
      "name                    Abdul-Rafey\n",
      "email          upwork8000@gmail.com\n",
      "recieve_day                Saturday\n",
      "Name: 4, dtype: object\n",
      "Abdul-Rafey\n"
     ]
    }
   ],
   "source": [
    "for row in recipients.iterrows():\n",
    "    print(type(row))\n",
    "    print(row)\n",
    "    print(type(row[0]))\n",
    "    print(row[0])\n",
    "    print(type(row[1]))\n",
    "    print(row[1])\n",
    "    print(row[1]['name'])"
   ]
  },
  {
   "cell_type": "code",
   "execution_count": 236,
   "id": "4359498f",
   "metadata": {},
   "outputs": [],
   "source": [
    "import datetime"
   ]
  },
  {
   "cell_type": "code",
   "execution_count": 237,
   "id": "dbc5e37b",
   "metadata": {},
   "outputs": [
    {
     "data": {
      "text/plain": [
       "datetime.date(2024, 7, 14)"
      ]
     },
     "execution_count": 237,
     "metadata": {},
     "output_type": "execute_result"
    }
   ],
   "source": [
    "datetime.date.today()"
   ]
  },
  {
   "cell_type": "code",
   "execution_count": 238,
   "id": "3d71bbf6",
   "metadata": {},
   "outputs": [
    {
     "name": "stdout",
     "output_type": "stream",
     "text": [
      "14\n"
     ]
    }
   ],
   "source": [
    "a = datetime.datetime.today().day\n",
    "print(a)"
   ]
  },
  {
   "cell_type": "code",
   "execution_count": 239,
   "id": "744c687f",
   "metadata": {},
   "outputs": [
    {
     "name": "stdout",
     "output_type": "stream",
     "text": [
      "14\n"
     ]
    }
   ],
   "source": [
    "print(a)"
   ]
  },
  {
   "cell_type": "code",
   "execution_count": 240,
   "id": "d184b6e2",
   "metadata": {},
   "outputs": [],
   "source": [
    "# quotes_generator = (quote for I, quote in quotes.iterrows())\n",
    "quotes = [(i, quote['Quote']) for i, quote in quotes.iterrows()]"
   ]
  },
  {
   "cell_type": "code",
   "execution_count": 241,
   "id": "beeece35",
   "metadata": {},
   "outputs": [
    {
     "data": {
      "text/plain": [
       "[(0,\n",
       "  'خواب وہ نہیں ہوتے جو نیند میں آئیں، خواب وہ ہوتے ہیں جو نیند ہی نہ آنے دیں۔'),\n",
       " (1, 'محنت کبھی رائیگاں نہیں جاتی، اگر آج نہ تو کل رنگ ضرور لائے گی۔'),\n",
       " (2, 'دشواریاں ہمیشہ آپ کو ایک طاقتور انسان بناتی ہیں۔'),\n",
       " (3, 'کام کو اپنی زندگی کا مقصد بنائیں، کامیابی خود آپ کے قدم چومے گی۔'),\n",
       " (4,\n",
       "  'کامیاب لوگ وہ نہیں ہوتے جو کبھی ناکام نہ ہوں، بلکہ وہ ہوتے ہیں جو کبھی ہار نہ مانیں۔'),\n",
       " (5, 'اگر آپ نے کوئی خواب دیکھا ہے تو اس کے پورا ہونے تک چین سے نہ بیٹھیں۔'),\n",
       " (6, 'کامیابی کی پہلی سیڑھی خود پر یقین ہے۔'),\n",
       " (7, 'جو محنت کرتا ہے، قسمت بھی اسی کا ساتھ دیتی ہے۔'),\n",
       " (8, 'کامیابی کی طرف پہلا قدم مشکل ضرور ہے، مگر ناممکن نہیں۔'),\n",
       " (9,\n",
       "  'زندگی میں کبھی ہار نہ مانیں، کیونکہ جو کوشش کرتا ہے وہی کامیاب ہوتا ہے۔'),\n",
       " (10, 'محنت کی چابی سے کامیابی کے دروازے کھلتے ہیں۔'),\n",
       " (11,\n",
       "  'آگے بڑھنے کا جذبہ اور مستقل مزاجی آپ کو کامیابی کی بلندیوں تک لے جاتی ہے۔'),\n",
       " (12, 'خود پر یقین رکھیں، کامیابی آپ کے قدم چومے گی۔'),\n",
       " (13, 'جس کام کو کرنے کی ٹھان لی ہو، اس میں کبھی پیچھے نہ ہٹیں۔'),\n",
       " (14, 'مشکل وقت میں ہمت نہ ہاریں، بلکہ اسے اپنی طاقت بنائیں۔'),\n",
       " (15,\n",
       "  'کامیاب ہونے کے لئے یہ ضروری نہیں کہ آپ کبھی نہ گریں، بلکہ یہ ضروری ہے کہ آپ دوبارہ اٹھیں۔'),\n",
       " (16,\n",
       "  'اپنے خوابوں کو حقیقت بنانے کے لئے محنت کریں، کیونکہ خواب دیکھنا سبھی کا حق ہے۔'),\n",
       " (17, 'کامیابی کا کوئی شارٹ کٹ نہیں ہوتا، محنت ہی اس کا واحد راستہ ہے۔'),\n",
       " (18, 'زندگی میں کچھ بھی حاصل کرنے کے لئے خود پر یقین رکھیں۔'),\n",
       " (19,\n",
       "  'اگر آپ نے کبھی خواب دیکھا ہے تو اسے پورا کرنے کے لئے اپنی تمام تر توانائی لگا دیں۔'),\n",
       " (20, 'کامیابی انہی کو ملتی ہے جو کبھی ہار نہیں مانتے۔'),\n",
       " (21, 'جو محنت سے نہیں گھبراتا، کامیابی اس کے قدموں میں ہوتی ہے۔'),\n",
       " (22, 'کامیابی کی سیڑھی محنت اور مستقل مزاجی سے چڑھی جاتی ہے۔'),\n",
       " (23, 'جو محنت کرتا ہے، کامیابی اس کی دستک پر ہوتی ہے۔'),\n",
       " (24,\n",
       "  'زندگی میں کبھی ہار نہ مانیں، کیونکہ جو کوشش کرتا ہے وہی کامیاب ہوتا ہے۔'),\n",
       " (25, 'کامیابی کا راز محنت اور مستقل مزاجی میں ہے۔'),\n",
       " (26, 'زندگی کے ہر لمحے کو اہمیت دیں اور اپنی منزل کی طرف بڑھتے رہیں۔'),\n",
       " (27, 'اگر آپ میں کچھ کرنے کا جذبہ ہے تو کامیابی آپ کے قدم چومے گی۔'),\n",
       " (28, 'کامیاب لوگ وہی ہوتے ہیں جو کبھی ہار نہیں مانتے۔'),\n",
       " (29, 'کامیابی انہی کو ملتی ہے جو اس کے لئے مسلسل کوشش کرتے ہیں۔'),\n",
       " (30, 'کامیابی کا پہلا قدم خود پر یقین ہے۔'),\n",
       " (31, 'محنت کبھی رائیگاں نہیں جاتی، اگر آج نہ تو کل رنگ ضرور لائے گی۔'),\n",
       " (32, 'کامیاب ہونے کے لئے خود پر اعتماد رکھیں اور محنت کریں۔'),\n",
       " (33, 'کامیابی کا سفر محنت اور مستقل مزاجی سے طے ہوتا ہے۔'),\n",
       " (34,\n",
       "  'اگر آپ نے کبھی خواب دیکھا ہے تو اسے پورا کرنے کے لئے اپنی تمام تر توانائی لگا دیں۔'),\n",
       " (35, 'کامیابی انہی کو ملتی ہے جو کبھی ہار نہیں مانتے۔'),\n",
       " (36, 'جو محنت سے نہیں گھبراتا، کامیابی اس کے قدموں میں ہوتی ہے۔'),\n",
       " (37, 'کامیابی کی سیڑھی محنت اور مستقل مزاجی سے چڑھی جاتی ہے۔'),\n",
       " (38, 'جو محنت کرتا ہے، کامیابی اس کی دستک پر ہوتی ہے۔'),\n",
       " (39,\n",
       "  'زندگی میں کبھی ہار نہ مانیں، کیونکہ جو کوشش کرتا ہے وہی کامیاب ہوتا ہے۔'),\n",
       " (40, 'کامیابی کا راز محنت اور مستقل مزاجی میں ہے۔'),\n",
       " (41, 'زندگی کے ہر لمحے کو اہمیت دیں اور اپنی منزل کی طرف بڑھتے رہیں۔'),\n",
       " (42, 'اگر آپ میں کچھ کرنے کا جذبہ ہے تو کامیابی آپ کے قدم چومے گی۔'),\n",
       " (43, 'کامیاب لوگ وہی ہوتے ہیں جو کبھی ہار نہیں مانتے۔'),\n",
       " (44, 'کامیابی انہی کو ملتی ہے جو اس کے لئے مسلسل کوشش کرتے ہیں۔'),\n",
       " (45, 'کامیابی کا پہلا قدم خود پر یقین ہے۔'),\n",
       " (46, 'محنت کبھی رائیگاں نہیں جاتی، اگر آج نہ تو کل رنگ ضرور لائے گی۔'),\n",
       " (47, 'کامیاب ہونے کے لئے خود پر اعتماد رکھیں اور محنت کریں۔'),\n",
       " (48, 'کامیابی کا سفر محنت اور مستقل مزاجی سے طے ہوتا ہے۔')]"
      ]
     },
     "execution_count": 241,
     "metadata": {},
     "output_type": "execute_result"
    }
   ],
   "source": [
    "quotes"
   ]
  },
  {
   "cell_type": "code",
   "execution_count": 292,
   "id": "27e55349",
   "metadata": {},
   "outputs": [
    {
     "data": {
      "text/plain": [
       "'اگر آپ نے کوئی خواب دیکھا ہے تو اس کے پورا ہونے تک چین سے نہ بیٹھیں۔'"
      ]
     },
     "execution_count": 292,
     "metadata": {},
     "output_type": "execute_result"
    }
   ],
   "source": [
    "quotes[5][1]"
   ]
  },
  {
   "cell_type": "code",
   "execution_count": 285,
   "id": "2a81c685",
   "metadata": {},
   "outputs": [],
   "source": [
    "current_index = None\n",
    "updated_index = None\n",
    "with open('index.txt', 'r+') as file:\n",
    "    current_index = file.read()\n",
    "    file.seek(0)\n",
    "    updated_index = file.write(f'{int(current_index)+1}')"
   ]
  },
  {
   "cell_type": "code",
   "execution_count": 287,
   "id": "9d30e3df",
   "metadata": {},
   "outputs": [
    {
     "name": "stdout",
     "output_type": "stream",
     "text": [
      "1\n"
     ]
    }
   ],
   "source": [
    "# print(int(current_index))\n",
    "print(int(updated_index))"
   ]
  },
  {
   "cell_type": "code",
   "execution_count": null,
   "id": "778648c4",
   "metadata": {},
   "outputs": [],
   "source": []
  }
 ],
 "metadata": {
  "kernelspec": {
   "display_name": "Python 3 (ipykernel)",
   "language": "python",
   "name": "python3"
  },
  "language_info": {
   "codemirror_mode": {
    "name": "ipython",
    "version": 3
   },
   "file_extension": ".py",
   "mimetype": "text/x-python",
   "name": "python",
   "nbconvert_exporter": "python",
   "pygments_lexer": "ipython3",
   "version": "3.12.3"
  }
 },
 "nbformat": 4,
 "nbformat_minor": 5
}
